{
 "cells": [
  {
   "cell_type": "markdown",
   "metadata": {},
   "source": [
    "Question 1:"
   ]
  },
  {
   "cell_type": "code",
   "execution_count": 14,
   "metadata": {},
   "outputs": [],
   "source": [
    "# Caesar Cipher Encryption and Decryption\n",
    "\n",
    "def encrypt(text, shift):\n",
    "    encrypted_text = \"\"\n",
    "    for char in text:\n",
    "        if char.isalpha():  # Check if the character is a letter\n",
    "            shift_start = ord('A') if char.isupper() else ord('a')\n",
    "            encrypted_text += chr((ord(char) - shift_start + shift) % 26 + shift_start)\n",
    "        else:\n",
    "            encrypted_text += char  # Non-alphabet characters remain the same\n",
    "    return encrypted_text"
   ]
  },
  {
   "cell_type": "code",
   "execution_count": 15,
   "metadata": {},
   "outputs": [],
   "source": [
    "def decrypt(text, shift):\n",
    "    decrypted_text = \"\"\n",
    "    for char in text:\n",
    "        if char.isalpha():\n",
    "            shift_start = ord('A') if char.isupper() else ord('a')\n",
    "            decrypted_text += chr((ord(char) - shift_start - shift) % 26 + shift_start)\n",
    "        else:\n",
    "            decrypted_text += char\n",
    "    return decrypted_text\n",
    "\n",
    "# Testing the functions\n",
    "input_text = \"Arwa Fawzy\"\n",
    "shift_key = 3"
   ]
  },
  {
   "cell_type": "code",
   "execution_count": 16,
   "metadata": {},
   "outputs": [
    {
     "name": "stdout",
     "output_type": "stream",
     "text": [
      "Encrypted: Duzd Idzcb\n",
      "Decrypted: Arwa Fawzy\n"
     ]
    }
   ],
   "source": [
    "# Encrypt\n",
    "encrypted = encrypt(input_text, shift_key)\n",
    "print(f\"Encrypted: {encrypted}\")\n",
    "\n",
    "# Decrypt\n",
    "decrypted = decrypt(encrypted, shift_key)\n",
    "print(f\"Decrypted: {decrypted}\")"
   ]
  },
  {
   "cell_type": "markdown",
   "metadata": {},
   "source": [
    "Question 2:"
   ]
  },
  {
   "cell_type": "code",
   "execution_count": 17,
   "metadata": {},
   "outputs": [],
   "source": [
    "def find_caesar_key(ciphertext):\n",
    "    # Find the most frequent letter in the ciphertext\n",
    "    letter_counts = Counter(char for char in ciphertext if char.isalpha())\n",
    "    most_common_letter, _ = letter_counts.most_common(1)[0]\n",
    "    \n",
    "    # Assume the most common letter should map to 'e' (most common letter in English)\n",
    "    shift = (ord(most_common_letter.lower()) - ord('e')) % 26\n",
    "    return shift"
   ]
  },
  {
   "cell_type": "code",
   "execution_count": 23,
   "metadata": {},
   "outputs": [
    {
     "name": "stdout",
     "output_type": "stream",
     "text": [
      "Detected Key: 3\n",
      "Decrypted Text: Develop a random function generator that generates a sequence of numbers Implement the Pseudorandom NG Test it using the same seed Next implement Pseudorandom NG Function that takes extra parameter that comes a true source of randomness such askeystroke mouse movement etc\n"
     ]
    }
   ],
   "source": [
    "# Testing the cryptanalysis\n",
    "ciphertext = encrypted_text = \"Ghyhors d udqgrp ixqfwlrq jhqhudwru wkdw jhqhudwhv d vhtxhqfh ri qxpehuv Lpsohphqw wkh Svhxgrudqgrp QJ Whvw lw xvlqj wkh vdph vhhg Qhaw lpsohphqw Svhxgrudqgrp QJ Ixqfwlrq wkdw wdnhv hawud sdudphwhu wkdw frphv d wuxh vrxufh ri udqgrpqhvv vxfk dvnhbvwurnh prxvh pryhphqw hwf\"\n",
    "\n",
    "# Example encrypted text using a Caesar cipher with a key of 3\n",
    "\n",
    "# Find the key and decrypt\n",
    "key = find_caesar_key(ciphertext)\n",
    "decrypted_text = decrypt(ciphertext, key)\n",
    "\n",
    "print(f\"Detected Key: {key}\")\n",
    "print(f\"Decrypted Text: {decrypted_text}\")"
   ]
  },
  {
   "cell_type": "markdown",
   "metadata": {},
   "source": [
    "question 3:"
   ]
  },
  {
   "cell_type": "code",
   "execution_count": 28,
   "metadata": {},
   "outputs": [
    {
     "name": "stdout",
     "output_type": "stream",
     "text": [
      "Pseudorandom Sequence: [81, 14, 3, 94, 35, 31, 28, 17, 94, 13, 86, 94, 69, 11, 75, 54, 4, 3, 11, 27, 29, 64, 77, 3, 71, 25, 91, 83, 89, 69, 53, 28, 57, 75, 35, 0, 97, 20, 89, 54, 43, 35, 19, 27, 97, 43, 13, 11, 48, 12, 45, 44, 77, 33, 5, 93, 58, 68, 15, 48, 10, 70, 37, 80, 79, 46, 73, 24, 90, 8, 5, 84, 29, 98, 37, 10, 29, 12, 48, 35, 58, 81, 46, 20, 47, 45, 26, 85, 34, 89, 87, 82, 9, 77, 81, 21, 68, 93, 31, 20]\n",
      "Enhanced Pseudorandom Sequence: [79, 29, 47, 96, 12, 84, 10, 89, 31, 92, 42, 6, 20, 56, 28, 70, 54, 67, 36, 48, 91, 30, 72, 14, 58, 67, 42, 74, 44, 6, 67, 87, 26, 10, 71, 65, 61, 23, 31, 24, 15, 25, 56, 46, 44, 49, 67, 77, 14, 58, 88, 81, 13, 42, 55, 62, 3, 43, 96, 6, 77, 6, 0, 54, 81, 27, 2, 34, 41, 74, 25, 19, 42, 38, 76, 87, 10, 70, 10, 88, 85, 76, 12, 64, 16, 100, 51, 15, 50, 20, 85, 28, 93, 78, 2, 9, 38, 1, 30, 3]\n"
     ]
    }
   ],
   "source": [
    "import random\n",
    "import time\n",
    "\n",
    "# Step 1: Define a function for a pseudorandom number generator (PRNG)\n",
    "def pseudorandom_sequence(seed, length=100):\n",
    "    random.seed(seed)  # Set the seed for reproducibility\n",
    "    return [random.randint(0, 100) for _ in range(length)]  # Generate a sequence of random numbers\n",
    "\n",
    "# Step 2: Define a function that takes an extra source of randomness\n",
    "def enhanced_pseudorandom_sequence(seed, true_random_source, length=100):\n",
    "    combined_seed = seed + true_random_source\n",
    "    random.seed(combined_seed)  # Use combined seed for extra randomness\n",
    "    return [random.randint(0, 100) for _ in range(length)]\n",
    "\n",
    "# Step 3: Test both functions with the same initial seed and a true random source\n",
    "seed = 42\n",
    "sequence1 = pseudorandom_sequence(seed)  # PRNG without extra randomness\n",
    "print(\"Pseudorandom Sequence:\", sequence1)\n",
    "\n",
    "# Use time-based source as a simple example of \"true randomness\"\n",
    "true_random_source = int(time.time() * 1000) % 1000\n",
    "sequence2 = enhanced_pseudorandom_sequence(seed, true_random_source)  # PRNG with extra randomness\n",
    "print(\"Enhanced Pseudorandom Sequence:\", sequence2)\n"
   ]
  },
  {
   "cell_type": "markdown",
   "metadata": {},
   "source": [
    "question 4:"
   ]
  },
  {
   "cell_type": "code",
   "execution_count": 27,
   "metadata": {},
   "outputs": [
    {
     "name": "stdout",
     "output_type": "stream",
     "text": [
      "Plaintext: Hello, World!\n",
      "Keyword: KEY\n",
      "Encrypted Text: Rcdpm, Agvjv!\n"
     ]
    }
   ],
   "source": [
    "def vigenere_cipher_encrypt(plaintext, keyword):\n",
    "    encrypted_text = \"\"\n",
    "    keyword_repeated = (keyword * (len(plaintext) // len(keyword) + 1))[:len(plaintext)]\n",
    "\n",
    "    for i in range(len(plaintext)):\n",
    "        char = plaintext[i]\n",
    "        if 'A' <= char <= 'Z':  # Uppercase letter\n",
    "            shift = ord(keyword_repeated[i]) - ord('A')  # Get shift from keyword\n",
    "            encrypted_text += chr((ord(char) - ord('A') + shift) % 26 + ord('A'))\n",
    "        elif 'a' <= char <= 'z':  # Lowercase letter\n",
    "            shift = ord(keyword_repeated[i]) - ord('a')  # Get shift from keyword\n",
    "            encrypted_text += chr((ord(char) - ord('a') + shift) % 26 + ord('a'))\n",
    "        else:  # Non-letter character\n",
    "            encrypted_text += char\n",
    "\n",
    "    return encrypted_text\n",
    "\n",
    "# Test the function\n",
    "plaintext = \"Hello, World!\"\n",
    "keyword = \"KEY\"\n",
    "encrypted_text = vigenere_cipher_encrypt(plaintext, keyword)\n",
    "print(\"Plaintext:\", plaintext)\n",
    "print(\"Keyword:\", keyword)\n",
    "print(\"Encrypted Text:\", encrypted_text)\n"
   ]
  },
  {
   "cell_type": "code",
   "execution_count": null,
   "metadata": {},
   "outputs": [],
   "source": []
  }
 ],
 "metadata": {
  "kernelspec": {
   "display_name": "gpu",
   "language": "python",
   "name": "gpu"
  },
  "language_info": {
   "codemirror_mode": {
    "name": "ipython",
    "version": 3
   },
   "file_extension": ".py",
   "mimetype": "text/x-python",
   "name": "python",
   "nbconvert_exporter": "python",
   "pygments_lexer": "ipython3",
   "version": "3.10.9"
  }
 },
 "nbformat": 4,
 "nbformat_minor": 2
}
